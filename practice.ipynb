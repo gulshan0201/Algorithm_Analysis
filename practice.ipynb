{
 "cells": [
  {
   "cell_type": "code",
   "execution_count": 2,
   "id": "0aaa9a5c",
   "metadata": {},
   "outputs": [
    {
     "name": "stdout",
     "output_type": "stream",
     "text": [
      "Topological sorting of the graph: 542310"
     ]
    }
   ],
   "source": [
    "def topologicalSortUtil(v, adj, visited, stack):\n",
    "    visited[v] = True\n",
    "\n",
    "    for i in adj[v]:\n",
    "        if not visited[i]:\n",
    "            topologicalSortUtil(i, adj, visited, stack)\n",
    "\n",
    "    stack.append(v)\n",
    "\n",
    "\n",
    "def toplogicalSort(adj, V):\n",
    "    stack = []\n",
    "\n",
    "    visited = [False] * V\n",
    "\n",
    "    for i in range(V):\n",
    "        if not visited[i]:\n",
    "            topologicalSortUtil(i, adj, visited, stack)\n",
    "             \n",
    "    print(\"Topological sorting of the graph: \", end=\"\")\n",
    "    while stack:\n",
    "        print(stack.pop(), end=\"\")\n",
    "\n",
    "\n",
    "#No of nodes\n",
    "V = 6\n",
    "\n",
    "edges = [[5, 0], [4, 0], [4, 1], [3, 1], [2, 3], [5, 2]]\n",
    "\n",
    "adj = [[] for _ in range(V)]\n",
    "\n",
    "for i in edges:\n",
    "    adj[i[0]].append(i[1])\n",
    "toplogicalSort(adj, V)\n"
   ]
  }
 ],
 "metadata": {
  "kernelspec": {
   "display_name": "Python 3",
   "language": "python",
   "name": "python3"
  },
  "language_info": {
   "codemirror_mode": {
    "name": "ipython",
    "version": 3
   },
   "file_extension": ".py",
   "mimetype": "text/x-python",
   "name": "python",
   "nbconvert_exporter": "python",
   "pygments_lexer": "ipython3",
   "version": "3.12.1"
  }
 },
 "nbformat": 4,
 "nbformat_minor": 5
}
