{
  "nbformat": 4,
  "nbformat_minor": 0,
  "metadata": {
    "colab": {
      "provenance": [],
      "authorship_tag": "ABX9TyNgCt8vkZq8UniIKKG/B8mC",
      "include_colab_link": true
    },
    "kernelspec": {
      "name": "python3",
      "display_name": "Python 3"
    },
    "language_info": {
      "name": "python"
    }
  },
  "cells": [
    {
      "cell_type": "markdown",
      "metadata": {
        "id": "view-in-github",
        "colab_type": "text"
      },
      "source": [
        "<a href=\"https://colab.research.google.com/github/gulshan0201/Algorithm_Analysis/blob/main/Shortest_path.ipynb\" target=\"_parent\"><img src=\"https://colab.research.google.com/assets/colab-badge.svg\" alt=\"Open In Colab\"/></a>"
      ]
    },
    {
      "cell_type": "code",
      "source": [
        "def shortest_path(graph,start,end):\n",
        "  queue = [(start,0)]\n",
        "  visited = set()\n",
        "  visited.add(start)\n",
        "\n",
        "  while queue:\n",
        "    node, dist = queue.pop(0)\n",
        "    if node == end:\n",
        "      return dist\n",
        "    for neighbor in graph[node]:\n",
        "      if neighbor not in visited:\n",
        "        queue.append((neighbor,dist+1))\n",
        "        visited.add(neighbor)\n",
        "  return -1\n",
        "\n",
        "\n",
        "graph = {\n",
        "    'A': ['B', 'C'],\n",
        "    'B': ['A', 'D', 'E'],\n",
        "    'C': ['A', 'F'],\n",
        "    'D': ['B'],\n",
        "    'E': ['B', 'F'],\n",
        "    'F': ['C', 'E']\n",
        "}\n",
        "\n",
        "# graph = {\n",
        "#     'A1': ['A2', 'B1'],\n",
        "#     'A2': ['A1', 'A3', 'B2'],\n",
        "#     'A3': ['A2', 'B3'],\n",
        "#     'B1': ['A1', 'B2'],\n",
        "#     'B2': ['A2', 'B1', 'B3'],\n",
        "#     'B3': ['A3', 'B2']\n",
        "# }\n",
        "\n",
        "# Find shortest path from 'A' to 'F'\n",
        "distance = shortest_path(graph, 'A', 'F')\n",
        "print(f\"Shortest path distance from A TO F is: {distance}\")\n",
        "\n",
        "\n",
        "# distance = shortest_path(graph, 'A1', 'B3')\n",
        "# print(f\"Shortest path distance from A1 to B3 is: {distance}\")"
      ],
      "metadata": {
        "colab": {
          "base_uri": "https://localhost:8080/"
        },
        "id": "xl2wSyBcu9PV",
        "outputId": "f3a62b4a-7aa0-4506-ee39-17ccc6014fbe"
      },
      "execution_count": 8,
      "outputs": [
        {
          "output_type": "stream",
          "name": "stdout",
          "text": [
            "Shortest path distance from A TO F is: 2\n"
          ]
        }
      ]
    },
    {
      "cell_type": "code",
      "execution_count": 17,
      "metadata": {
        "colab": {
          "base_uri": "https://localhost:8080/"
        },
        "id": "wn4PwweLu12Z",
        "outputId": "4c639530-c532-42e1-a7a3-03693990d018"
      },
      "outputs": [
        {
          "output_type": "stream",
          "name": "stdout",
          "text": [
            "{'F': 0, 'C': 1, 'E': 1, 'A': 2, 'B': 2, 'D': 3}\n"
          ]
        }
      ],
      "source": [
        "def dfs_shortest_path(graph,start):\n",
        "  distances = {}\n",
        "  current_layer = [start]\n",
        "  distances[start] = 0\n",
        "  while(current_layer):\n",
        "    current_node = current_layer.pop(0)\n",
        "    for neighbor in graph[current_node]:\n",
        "      if neighbor not in distances:\n",
        "        distances[neighbor] = distances[current_node] + 1\n",
        "        current_layer.append(neighbor)\n",
        "  return distances\n",
        "\n",
        "  graph = {\n",
        "    'A': ['B', 'C'],\n",
        "    'B': ['A', 'D', 'E'],\n",
        "    'C': ['A', 'F'],\n",
        "    'D': ['B'],\n",
        "    'E': ['B', 'F'],\n",
        "    'F': ['C', 'E']\n",
        "}\n",
        "\n",
        "# Call the function\n",
        "# START = 'B'\n",
        "result = dfs_shortest_path(graph, 'F')\n",
        "\n",
        "# Print the output\n",
        "print(result)"
      ]
    },
    {
      "cell_type": "code",
      "source": [
        "def bfs_shortest_path(graph,start):\n",
        "  distances = {}\n",
        "  current_layer = [start]\n",
        "  next_layer = []\n",
        "  distances[start] = 0\n",
        "  while (current_layer):\n",
        "    current_node = current_layer.pop(0)\n",
        "    for neighbor in graph[current_node]:\n",
        "      if neighbor not in distances:\n",
        "        next_layer.append(neighbor)\n",
        "        distances[neighbor] = distances[current_node] + 1\n",
        "    if not current_layer:\n",
        "      current_layer, next_layer = next_layer,[]\n",
        "      next_layer.clear()\n",
        "  return distances\n",
        "\n",
        "graph = {\n",
        "    'A': ['B', 'C'],\n",
        "    'B': ['A', 'D', 'E'],\n",
        "    'C': ['A', 'F'],\n",
        "    'D': ['B'],\n",
        "    'E': ['B', 'F'],\n",
        "    'F': ['C', 'E']\n",
        "}\n",
        "\n",
        "# Call the function\n",
        "result = bfs_shortest_path(graph, 'A')\n",
        "\n",
        "# Print the output\n",
        "print(result)"
      ],
      "metadata": {
        "colab": {
          "base_uri": "https://localhost:8080/"
        },
        "id": "08SnAlg95ggq",
        "outputId": "0b68ae25-2f7b-43a5-e1db-71e1d844fb61"
      },
      "execution_count": 24,
      "outputs": [
        {
          "output_type": "stream",
          "name": "stdout",
          "text": [
            "{'A': 0, 'B': 1, 'C': 1, 'D': 2, 'E': 2, 'F': 2}\n"
          ]
        }
      ]
    },
    {
      "cell_type": "code",
      "source": [],
      "metadata": {
        "id": "JLxCp7B3AVi6"
      },
      "execution_count": null,
      "outputs": []
    }
  ]
}