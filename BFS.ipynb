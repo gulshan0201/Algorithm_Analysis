{
  "cells": [
    {
      "cell_type": "markdown",
      "metadata": {
        "colab_type": "text",
        "id": "view-in-github"
      },
      "source": [
        "<a href=\"https://colab.research.google.com/github/gulshan0201/Algorithm_Analysis/blob/main/BFS.ipynb\" target=\"_parent\"><img src=\"https://colab.research.google.com/assets/colab-badge.svg\" alt=\"Open In Colab\"/></a>"
      ]
    },
    {
      "cell_type": "markdown",
      "metadata": {
        "id": "zwXtY2aFQwPC"
      },
      "source": [
        "Breth First Search Algorithm"
      ]
    },
    {
      "cell_type": "code",
      "execution_count": null,
      "metadata": {
        "colab": {
          "base_uri": "https://localhost:8080/"
        },
        "id": "9jYQ8JHgNpwZ",
        "outputId": "6d2b338c-fead-4560-b729-8f88bcdbbad1"
      },
      "outputs": [
        {
          "name": "stdout",
          "output_type": "stream",
          "text": [
            "['A', 'B', 'D']\n"
          ]
        }
      ],
      "source": [
        "from collections import deque\n",
        "\n",
        "def bfs_shortest_path(graph, start, goal):\n",
        "    visited = set()\n",
        "    queue = deque([[start]])  # queue stores paths\n",
        "\n",
        "    while queue:\n",
        "        path = queue.popleft()\n",
        "        node = path[-1]\n",
        "\n",
        "        if node == goal:\n",
        "            return path  # shortest path mil gaya\n",
        "\n",
        "        if node not in visited:\n",
        "            for neighbor in graph[node]:\n",
        "                new_path = list(path)\n",
        "                new_path.append(neighbor)\n",
        "                queue.append(new_path)\n",
        "            visited.add(node)\n",
        "    return None\n",
        "\n",
        "# Example graph (dictionary format)\n",
        "graph = {\n",
        "    'A': ['B', 'C'],\n",
        "    'B': ['A', 'D', 'E'],\n",
        "    'C': ['A'],\n",
        "    'D': ['B'],\n",
        "    'E': ['B']\n",
        "}\n",
        "\n",
        "print(bfs_shortest_path(graph, 'A', 'D'))\n"
      ]
    },
    {
      "cell_type": "code",
      "execution_count": null,
      "metadata": {
        "colab": {
          "base_uri": "https://localhost:8080/"
        },
        "id": "qcAxDrMSOknJ",
        "outputId": "b8050763-aeaf-443d-d7b6-8e16e35e1f10"
      },
      "outputs": [
        {
          "name": "stdout",
          "output_type": "stream",
          "text": [
            "['A', 'B', 'D']\n"
          ]
        }
      ],
      "source": [
        "from collections import deque\n",
        "\n",
        "# Graph banate hain (dictionary ke form mein)\n",
        "graph = {\n",
        "    'A': ['B', 'C'],\n",
        "    'B': ['A', 'D'],\n",
        "    'C': ['A'],\n",
        "    'D': ['B']\n",
        "}\n",
        "\n",
        "def bfs_shortest_path(graph, start, goal):\n",
        "    # Queue me path store karte hain\n",
        "    queue = deque([[start]])\n",
        "    visited = set()\n",
        "\n",
        "    while queue:\n",
        "        path = queue.popleft()   # ek path nikalo\n",
        "        node = path[-1]          # uska last node check karo\n",
        "\n",
        "        # Agar goal mil gaya\n",
        "        if node == goal:\n",
        "            return path\n",
        "\n",
        "        # Naye neighbors explore karo\n",
        "        if node not in visited:\n",
        "            for neighbor in graph[node]:\n",
        "                new_path = list(path)\n",
        "                new_path.append(neighbor)\n",
        "                queue.append(new_path)\n",
        "            visited.add(node)\n",
        "\n",
        "# Example: A se D tak shortest path\n",
        "print(bfs_shortest_path(graph, 'A', 'D'))\n"
      ]
    },
    {
      "cell_type": "code",
      "execution_count": 1,
      "metadata": {
        "id": "2aTGXDieLvxO"
      },
      "outputs": [
        {
          "name": "stdout",
          "output_type": "stream",
          "text": [
            "BFS traversal starting from 'A':\n",
            "A B C D E F "
          ]
        }
      ],
      "source": [
        "from collections import deque\n",
        "\n",
        "def bfs(graph, start_node):\n",
        "    visited = set()  # To keep track of visited nodes\n",
        "    queue = deque([start_node])  # Initialize the queue with the starting node\n",
        "\n",
        "    visited.add(start_node)  # Mark the start node as visited\n",
        "\n",
        "    while queue:\n",
        "        current_node = queue.popleft()  # Dequeue the first node\n",
        "        print(current_node, end=\" \")  # Process the current node (e.g., print it)\n",
        "\n",
        "        # Explore neighbors\n",
        "        for neighbor in graph.get(current_node, []):  # Get neighbors of current_node\n",
        "            if neighbor not in visited:\n",
        "                visited.add(neighbor)\n",
        "                queue.append(neighbor)\n",
        "\n",
        "# Example Usage:\n",
        "graph = {\n",
        "    'A': ['B', 'C'],\n",
        "    'B': ['A', 'D', 'E'],\n",
        "    'C': ['A', 'F'],\n",
        "    'D': ['B'],\n",
        "    'E': ['B', 'F'],\n",
        "    'F': ['C', 'E']\n",
        "}\n",
        "\n",
        "print(\"BFS traversal starting from 'A':\")\n",
        "bfs(graph, 'A')"
      ]
    },
    {
      "cell_type": "code",
      "execution_count": 2,
      "metadata": {},
      "outputs": [],
      "source": [
        "def BFS(graph, V, src):\n",
        "    visited = [False] * V        # 1\n",
        "    queue = []                   # 2\n",
        "    queue.append(src)            # 3\n",
        "    visited[src] = True          # 4\n",
        "    path = []                    # 5\n",
        "    while queue:                 # 6\n",
        "        u = queue.pop(0)         # 7\n",
        "        path.append(u)           # 8\n",
        "        for v in graph[u]:       # 9\n",
        "            if not visited[v]:   # 10\n",
        "                queue.append(v)  # 11\n",
        "                visited[v] = True# 12\n",
        "    return path                  # 13\n"
      ]
    },
    {
      "cell_type": "markdown",
      "metadata": {},
      "source": [
        "In case if we have all connected graphs then the BFS for such graph is as follows "
      ]
    },
    {
      "cell_type": "code",
      "execution_count": 6,
      "metadata": {},
      "outputs": [
        {
          "name": "stdout",
          "output_type": "stream",
          "text": [
            "01234"
          ]
        }
      ],
      "source": [
        "def bfs(adj):  #Defines the BFS function, taking the adjacency list adj as input.\n",
        "\n",
        "    V = len(adj) #Calculates the number of vertices in the graph from the length of the adjacency list.\n",
        "\n",
        "    res = [] #Initializes an empty list res to store the order of traversal.\n",
        "    s = 0  #Sets the source node to 0 (the traversal starts from node 0)\n",
        "    from collections import deque  #Import deque\n",
        "\n",
        "    q = deque()  #Instantiates an empty queue q for BFS\n",
        "\n",
        "    visited = [False] * V  #Creates an array to track visited nodes, initialized to False for all\n",
        "\n",
        "    visited[s] = True  # Marks the source node as visited \n",
        "\n",
        "    q.append(s) # Add the source node to queue  \n",
        "\n",
        "    # BFS travel loop \n",
        "    while q: # Runs the loop as long as there is at least one node in the queue\n",
        "        curr = q.popleft()  #Removes and returns the node at the front of the queue\n",
        "        res.append(curr) # Appends the current node to the traversal result list\n",
        "\n",
        "\n",
        "        for x in adj[curr]:  # Loops through all adjacent nodes (neighbors) of the current node.\n",
        "            if not visited[x]: # Checks if the neighbor node is unvisited.\n",
        "                visited[x] = True  #  Marks the neighbor as visited to avoid revisiting.\n",
        "                q.append(x)  # Adds the neighbor node to the queue for later traversal.\n",
        "    return res\n",
        "\n",
        "if __name__ == \"__main__\":\n",
        "    adj = [[1,2], [0,2,3], [0,4], [1,4], [2,3]]\n",
        "    res = bfs(adj)\n",
        "    for i in res:\n",
        "        print(i, end=\"\")\n",
        "\n"
      ]
    },
    {
      "cell_type": "code",
      "execution_count": null,
      "metadata": {},
      "outputs": [],
      "source": []
    }
  ],
  "metadata": {
    "colab": {
      "include_colab_link": true,
      "provenance": []
    },
    "kernelspec": {
      "display_name": "Python 3",
      "name": "python3"
    },
    "language_info": {
      "codemirror_mode": {
        "name": "ipython",
        "version": 3
      },
      "file_extension": ".py",
      "mimetype": "text/x-python",
      "name": "python",
      "nbconvert_exporter": "python",
      "pygments_lexer": "ipython3",
      "version": "3.12.1"
    }
  },
  "nbformat": 4,
  "nbformat_minor": 0
}
