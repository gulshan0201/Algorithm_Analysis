{
  "nbformat": 4,
  "nbformat_minor": 0,
  "metadata": {
    "colab": {
      "provenance": [],
      "include_colab_link": true
    },
    "kernelspec": {
      "name": "python3",
      "display_name": "Python 3"
    },
    "language_info": {
      "name": "python"
    }
  },
  "cells": [
    {
      "cell_type": "markdown",
      "metadata": {
        "id": "view-in-github",
        "colab_type": "text"
      },
      "source": [
        "<a href=\"https://colab.research.google.com/github/gulshan0201/Algorithm_Analysis/blob/main/BFS.ipynb\" target=\"_parent\"><img src=\"https://colab.research.google.com/assets/colab-badge.svg\" alt=\"Open In Colab\"/></a>"
      ]
    },
    {
      "cell_type": "markdown",
      "source": [
        "Breth First Search Algorithm"
      ],
      "metadata": {
        "id": "zwXtY2aFQwPC"
      }
    },
    {
      "cell_type": "code",
      "execution_count": null,
      "metadata": {
        "colab": {
          "base_uri": "https://localhost:8080/"
        },
        "id": "9jYQ8JHgNpwZ",
        "outputId": "6d2b338c-fead-4560-b729-8f88bcdbbad1"
      },
      "outputs": [
        {
          "output_type": "stream",
          "name": "stdout",
          "text": [
            "['A', 'B', 'D']\n"
          ]
        }
      ],
      "source": [
        "from collections import deque\n",
        "\n",
        "def bfs_shortest_path(graph, start, goal):\n",
        "    visited = set()\n",
        "    queue = deque([[start]])  # queue stores paths\n",
        "\n",
        "    while queue:\n",
        "        path = queue.popleft()\n",
        "        node = path[-1]\n",
        "\n",
        "        if node == goal:\n",
        "            return path  # shortest path mil gaya\n",
        "\n",
        "        if node not in visited:\n",
        "            for neighbor in graph[node]:\n",
        "                new_path = list(path)\n",
        "                new_path.append(neighbor)\n",
        "                queue.append(new_path)\n",
        "            visited.add(node)\n",
        "    return None\n",
        "\n",
        "# Example graph (dictionary format)\n",
        "graph = {\n",
        "    'A': ['B', 'C'],\n",
        "    'B': ['A', 'D', 'E'],\n",
        "    'C': ['A'],\n",
        "    'D': ['B'],\n",
        "    'E': ['B']\n",
        "}\n",
        "\n",
        "print(bfs_shortest_path(graph, 'A', 'D'))\n"
      ]
    },
    {
      "cell_type": "code",
      "source": [
        "from collections import deque\n",
        "\n",
        "# Graph banate hain (dictionary ke form mein)\n",
        "graph = {\n",
        "    'A': ['B', 'C'],\n",
        "    'B': ['A', 'D'],\n",
        "    'C': ['A'],\n",
        "    'D': ['B']\n",
        "}\n",
        "\n",
        "def bfs_shortest_path(graph, start, goal):\n",
        "    # Queue me path store karte hain\n",
        "    queue = deque([[start]])\n",
        "    visited = set()\n",
        "\n",
        "    while queue:\n",
        "        path = queue.popleft()   # ek path nikalo\n",
        "        node = path[-1]          # uska last node check karo\n",
        "\n",
        "        # Agar goal mil gaya\n",
        "        if node == goal:\n",
        "            return path\n",
        "\n",
        "        # Naye neighbors explore karo\n",
        "        if node not in visited:\n",
        "            for neighbor in graph[node]:\n",
        "                new_path = list(path)\n",
        "                new_path.append(neighbor)\n",
        "                queue.append(new_path)\n",
        "            visited.add(node)\n",
        "\n",
        "# Example: A se D tak shortest path\n",
        "print(bfs_shortest_path(graph, 'A', 'D'))\n"
      ],
      "metadata": {
        "colab": {
          "base_uri": "https://localhost:8080/"
        },
        "id": "qcAxDrMSOknJ",
        "outputId": "b8050763-aeaf-443d-d7b6-8e16e35e1f10"
      },
      "execution_count": null,
      "outputs": [
        {
          "output_type": "stream",
          "name": "stdout",
          "text": [
            "['A', 'B', 'D']\n"
          ]
        }
      ]
    },
    {
      "cell_type": "code",
      "source": [
        "from collections import deque\n",
        "\n",
        "def bfs(graph, start_node):\n",
        "    visited = set()  # To keep track of visited nodes\n",
        "    queue = deque([start_node])  # Initialize the queue with the starting node\n",
        "\n",
        "    visited.add(start_node)  # Mark the start node as visited\n",
        "\n",
        "    while queue:\n",
        "        current_node = queue.popleft()  # Dequeue the first node\n",
        "        print(current_node, end=\" \")  # Process the current node (e.g., print it)\n",
        "\n",
        "        # Explore neighbors\n",
        "        for neighbor in graph.get(current_node, []):  # Get neighbors of current_node\n",
        "            if neighbor not in visited:\n",
        "                visited.add(neighbor)\n",
        "                queue.append(neighbor)\n",
        "\n",
        "# Example Usage:\n",
        "graph = {\n",
        "    'A': ['B', 'C'],\n",
        "    'B': ['A', 'D', 'E'],\n",
        "    'C': ['A', 'F'],\n",
        "    'D': ['B'],\n",
        "    'E': ['B', 'F'],\n",
        "    'F': ['C', 'E']\n",
        "}\n",
        "\n",
        "print(\"BFS traversal starting from 'A':\")\n",
        "bfs(graph, 'A')"
      ],
      "metadata": {
        "id": "2aTGXDieLvxO"
      },
      "execution_count": null,
      "outputs": []
    },
    {
      "cell_type": "code",
      "source": [
        "from collection import deque\n",
        "\n",
        "\n",
        "def bfs(graph,start_node):\n",
        "  visited = set()\n",
        "  queue = deque([start_node]) #inialising queue with a starting node\n",
        "\n",
        "  visited.add(start_node) #mark that start node is visited\n",
        "\n",
        "\n",
        "  while queue:\n",
        "    current_node = queue.popleft() #Dequeue the first node\n",
        "\n",
        "    print(current_node,end=\"\")\n",
        "\n",
        "    for neighbor in graph.get(current_node,[])\n",
        "      if neighbor not in visited:\n",
        "        visited.add(neighbor)\n",
        "        queue.append(neighbor)\n"
      ],
      "metadata": {
        "id": "nbBk2PuYMpG8"
      },
      "execution_count": null,
      "outputs": []
    }
  ]
}