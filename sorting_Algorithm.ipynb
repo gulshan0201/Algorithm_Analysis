{
  "cells": [
    {
      "cell_type": "code",
      "execution_count": null,
      "metadata": {
        "colab": {
          "base_uri": "https://localhost:8080/"
        },
        "id": "rNMjXmDwk2ff",
        "outputId": "ad3778ce-2e58-443b-c2b4-509109fba993"
      },
      "outputs": [
        {
          "name": "stdout",
          "output_type": "stream",
          "text": [
            "[10, 90, 55, 1, 21, 11]\n",
            "[10, 55, 90, 1, 21, 11]\n"
          ]
        }
      ],
      "source": [
        "def bubble_sort(arr):\n",
        "  n = len(arr)\n",
        "\n",
        "  for i in range(n-1):\n",
        "    swapped = False\n",
        "    for j in range(n-i-1):\n",
        "      if arr[j] > arr[j+1]:\n",
        "        arr[j], arr[j+1] = arr[j+1], arr[j]\n",
        "        swapped = True\n",
        "        if not swapped:\n",
        "          break\n",
        "        return arr\n",
        "\n",
        "arr = [10,90,55,1,21,11]\n",
        "print(arr)\n",
        "\n",
        "bubble_sort(arr)\n",
        "print(arr)"
      ]
    },
    {
      "cell_type": "code",
      "execution_count": null,
      "metadata": {
        "colab": {
          "base_uri": "https://localhost:8080/"
        },
        "id": "2X8f9sJTpvIy",
        "outputId": "2f8f8fe3-f15b-4f83-92df-52f7399cccd5"
      },
      "outputs": [
        {
          "name": "stdout",
          "output_type": "stream",
          "text": [
            "[10, 90, 55, 1, 21, 11]\n",
            "[1, 10, 11, 21, 55, 90]\n"
          ]
        }
      ],
      "source": [
        "def selection_sort(arr):\n",
        "    n = len(arr)\n",
        "\n",
        "    for i in range(n):\n",
        "        min_index = i\n",
        "\n",
        "        for j in range(i + 1, n):\n",
        "            if arr[j] < arr[min_index]:\n",
        "                min_index = j\n",
        "\n",
        "        # Swap once after finding min_index\n",
        "        arr[i], arr[min_index] = arr[min_index], arr[i]\n",
        "\n",
        "arr = [10,90,55,1,21,11]\n",
        "print(arr)\n",
        "\n",
        "selection_sort(arr)\n",
        "print(arr)"
      ]
    },
    {
      "cell_type": "code",
      "execution_count": null,
      "metadata": {
        "colab": {
          "base_uri": "https://localhost:8080/"
        },
        "id": "uSOAwGRjYcSA",
        "outputId": "580204af-2a1d-4bd8-e68a-1793c75adbae"
      },
      "outputs": [
        {
          "name": "stdout",
          "output_type": "stream",
          "text": [
            "[10, 90, 55, 1, 21, 11]\n",
            "[10, 90, 55, 1, 21, 11]\n"
          ]
        }
      ],
      "source": [
        "def selection_sort(arr):\n",
        "  n = len(arr)\n",
        "\n",
        "  for i in range(n):\n",
        "    min_index = i\n",
        "\n",
        "    for j in range(i+1, n):\n",
        "      if arr[j] < arr[min_index]:\n",
        "        min_index = j\n",
        "      arr[i], arr[min_index] = arr[min_index], arr[i]\n",
        "      return arr\n",
        "\n",
        "arr = [10,90,55,1,21,11]\n",
        "print(arr)\n",
        "\n",
        "selection_sort(arr)\n",
        "print(arr)"
      ]
    },
    {
      "cell_type": "code",
      "execution_count": 1,
      "metadata": {
        "colab": {
          "base_uri": "https://localhost:8080/"
        },
        "id": "IkC9rRAbxfXr",
        "outputId": "1dc74565-a2a0-457c-d59f-56fd3391d97d"
      },
      "outputs": [
        {
          "name": "stdout",
          "output_type": "stream",
          "text": [
            "[5, 6, 11, 12, 13]\n"
          ]
        }
      ],
      "source": [
        "def insertion_sort(arr):\n",
        "    for i in range(1, len(arr)):\n",
        "        key = arr[i]\n",
        "        j = i-1\n",
        "        while j >= 0 and arr[j] > key:\n",
        "            arr[j+1] = arr[j]\n",
        "            j -= 1\n",
        "        arr[j+1] = key\n",
        "    return arr\n",
        "\n",
        "print(insertion_sort([12, 11, 13, 5, 6]))\n"
      ]
    },
    {
      "cell_type": "markdown",
      "metadata": {
        "id": "OVJIqP1c9aVa"
      },
      "source": [
        "# Quick sort Algorithm"
      ]
    },
    {
      "cell_type": "code",
      "execution_count": null,
      "metadata": {
        "colab": {
          "base_uri": "https://localhost:8080/"
        },
        "id": "TJ2Mf0Gcofnl",
        "outputId": "b91f1868-4c2f-41e2-e1bd-41979b462ca2"
      },
      "outputs": [
        {
          "name": "stdout",
          "output_type": "stream",
          "text": [
            "[10, 11, 19, 20, 45, 90]\n"
          ]
        }
      ],
      "source": [
        "def quick_sort(arr):\n",
        "  if len(arr) <= 1:\n",
        "    return arr\n",
        "  pivot = arr[len(arr) // 2]\n",
        "  left = [x for x in arr if x < pivot]\n",
        "  middle = [x for x in arr if x == pivot]\n",
        "  right = [x for x in arr if x > pivot]\n",
        "  return quick_sort(left) + middle + quick_sort(right)\n",
        "\n",
        "my_list = [19,10,11,20,45,90]\n",
        "sorted = quick_sort(my_list)\n",
        "print(sorted)\n",
        "\n",
        "# quick_sort([1])"
      ]
    },
    {
      "cell_type": "code",
      "execution_count": 20,
      "metadata": {
        "id": "DGcjvsuwRPdI"
      },
      "outputs": [
        {
          "name": "stdout",
          "output_type": "stream",
          "text": [
            "[6, 7, 8, 9]\n"
          ]
        }
      ],
      "source": [
        "def bubble_sort(arr):\n",
        "  n = len(arr)\n",
        "    \n",
        "  for i in range(n-1):\n",
        "        # print(arr[i])\n",
        "        swapped = False\n",
        "        for j in range(n-i-1):\n",
        "            # print(arr[j])\n",
        "            if arr[j] > arr[j + 1]:\n",
        "                arr[j], arr[j+1] = arr[j+1], arr[j]\n",
        "        swapped = True\n",
        "        if not swapped:\n",
        "          break\n",
        "  return arr        \n",
        "\n",
        "\n",
        "arr = [9,8,7,6]\n",
        "sort = bubble_sort(arr)\n",
        "print(sort)            \n"
      ]
    },
    {
      "cell_type": "code",
      "execution_count": 25,
      "metadata": {},
      "outputs": [
        {
          "name": "stdout",
          "output_type": "stream",
          "text": [
            "2\n",
            "0\n",
            "3\n",
            "0\n",
            "1\n",
            "5\n",
            "0\n",
            "1\n",
            "2\n",
            "3\n",
            "6\n",
            "0\n",
            "1\n",
            "2\n",
            "3\n",
            "4\n",
            "1\n",
            "4\n",
            "0\n",
            "1\n",
            "2\n"
          ]
        }
      ],
      "source": [
        "arr = [2,3,5,6,1,4]\n",
        "\n",
        "for i in arr:\n",
        "    print(i)\n",
        "    for j in range(i-1):\n",
        "        print(j)\n",
        "        "
      ]
    },
    {
      "cell_type": "code",
      "execution_count": null,
      "metadata": {},
      "outputs": [],
      "source": []
    }
  ],
  "metadata": {
    "colab": {
      "provenance": []
    },
    "kernelspec": {
      "display_name": "Python 3",
      "name": "python3"
    },
    "language_info": {
      "codemirror_mode": {
        "name": "ipython",
        "version": 3
      },
      "file_extension": ".py",
      "mimetype": "text/x-python",
      "name": "python",
      "nbconvert_exporter": "python",
      "pygments_lexer": "ipython3",
      "version": "3.12.1"
    }
  },
  "nbformat": 4,
  "nbformat_minor": 0
}
