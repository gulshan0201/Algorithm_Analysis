{
  "nbformat": 4,
  "nbformat_minor": 0,
  "metadata": {
    "colab": {
      "provenance": [],
      "authorship_tag": "ABX9TyMx7B/s65y32WYxvE1QR4DY"
    },
    "kernelspec": {
      "name": "python3",
      "display_name": "Python 3"
    },
    "language_info": {
      "name": "python"
    }
  },
  "cells": [
    {
      "cell_type": "code",
      "execution_count": null,
      "metadata": {
        "colab": {
          "base_uri": "https://localhost:8080/"
        },
        "id": "7vY2Kta-_0ns",
        "outputId": "92413ded-331f-49e4-acad-8833547a5039"
      },
      "outputs": [
        {
          "output_type": "stream",
          "name": "stdout",
          "text": [
            "{'b': 2, 'a': 6, 'n': 4, ' ': 1, 'd': 1}\n"
          ]
        }
      ],
      "source": [
        "text = \"banana bandana\"\n",
        "freq = {}\n",
        "for ch in text:\n",
        "    freq[ch] = freq.get(ch, 0) + 1\n",
        "\n",
        "print(freq)  # {'b':1, 'a':6, 'n':4, 'd':1, ' ':1}\n"
      ]
    },
    {
      "cell_type": "code",
      "source": [
        "name = \"Gulshan Kumar Sonu\"\n",
        "dict = {}\n",
        "\n",
        "for ch in name:\n",
        "  dict[ch] = dict.get(ch,0) + 1\n",
        "\n",
        "print(dict)"
      ],
      "metadata": {
        "colab": {
          "base_uri": "https://localhost:8080/"
        },
        "id": "NiQgrXHnATBb",
        "outputId": "986ad7cb-e6bd-49d1-cedd-00e5c0790183"
      },
      "execution_count": null,
      "outputs": [
        {
          "output_type": "stream",
          "name": "stdout",
          "text": [
            "{'G': 1, 'u': 3, 'l': 1, 's': 1, 'h': 1, 'a': 2, 'n': 2, ' ': 2, 'K': 1, 'm': 1, 'r': 1, 'S': 1, 'o': 1}\n"
          ]
        }
      ]
    },
    {
      "cell_type": "code",
      "source": [
        "from collections import Counter\n",
        "print(Counter(\"Gulshan Kumar Sonu\"))\n",
        "\n"
      ],
      "metadata": {
        "colab": {
          "base_uri": "https://localhost:8080/"
        },
        "id": "or-Y2YsrAkyl",
        "outputId": "f259f575-8426-4191-c5e3-ad44425cc55e"
      },
      "execution_count": null,
      "outputs": [
        {
          "output_type": "stream",
          "name": "stdout",
          "text": [
            "Counter({'u': 3, 'a': 2, 'n': 2, ' ': 2, 'G': 1, 'l': 1, 's': 1, 'h': 1, 'K': 1, 'm': 1, 'r': 1, 'S': 1, 'o': 1})\n"
          ]
        }
      ]
    },
    {
      "cell_type": "code",
      "source": [
        "dict_list = {\"name\": \"Gulshan\",  \"age\": \"22\"}\n",
        "\n",
        "# print(dict_list[\"name\"])\n",
        "# print(dict_list.get(\"age\"))\n",
        "# dict_list.keys()\n",
        "dict_list.values()\n",
        "# dict_list.items()\n",
        "\n",
        "dict_list.update({\"city\": \"Vizag\"})\n",
        "\n",
        "print(dict_list.values())"
      ],
      "metadata": {
        "colab": {
          "base_uri": "https://localhost:8080/"
        },
        "id": "F2bexnGrCk5X",
        "outputId": "19e721ab-a602-4026-abcb-c6d59581dbf0"
      },
      "execution_count": null,
      "outputs": [
        {
          "output_type": "stream",
          "name": "stdout",
          "text": [
            "dict_values(['Gulshan', '22', 'Vizag'])\n"
          ]
        }
      ]
    },
    {
      "cell_type": "code",
      "source": [
        "def linear_search(input_list, element):\n",
        " for index, value in enumerate(input_list):\n",
        "  if value == element:\n",
        "    return index\n",
        "\n",
        "    return -1\n",
        "input_list = [3, 4, 1, 6, 14]\n",
        "element = 4\n",
        "print(\"Index position for the element x is:\", linear_search(input_list,element))"
      ],
      "metadata": {
        "id": "Oneecgu3DDzJ",
        "colab": {
          "base_uri": "https://localhost:8080/"
        },
        "outputId": "b74cb04c-d645-4f8d-9080-c1927f6f4b3b"
      },
      "execution_count": 3,
      "outputs": [
        {
          "output_type": "stream",
          "name": "stdout",
          "text": [
            "Index position for the element x is: 1\n"
          ]
        }
      ]
    },
    {
      "cell_type": "code",
      "source": [
        "def search(input, element):\n",
        "  for index, value in enumerate(input):\n",
        "    if value == element:\n",
        "      return index\n",
        "\n",
        "  return -1\n",
        "\n",
        "  input = [1,9,7,90,11,88]\n",
        "  element = 9\n",
        "  search(input,element)"
      ],
      "metadata": {
        "id": "rmypA1KsrSCT"
      },
      "execution_count": 10,
      "outputs": []
    },
    {
      "cell_type": "code",
      "source": [],
      "metadata": {
        "id": "j-rY_oNB99VT"
      },
      "execution_count": null,
      "outputs": []
    }
  ]
}